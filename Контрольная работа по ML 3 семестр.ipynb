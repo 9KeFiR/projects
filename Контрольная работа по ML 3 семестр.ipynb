{
 "cells": [
  {
   "cell_type": "code",
   "execution_count": 52,
   "metadata": {},
   "outputs": [],
   "source": [
    "from sklearn.datasets import fetch_openml\n",
    "from sklearn.model_selection import train_test_split\n",
    "from sklearn.preprocessing import StandardScaler\n",
    "from sklearn.linear_model import LogisticRegression\n",
    "from sklearn.svm import SVC\n",
    "from sklearn.neural_network import MLPClassifier\n",
    "from sklearn.preprocessing import PolynomialFeatures\n",
    "from sklearn.pipeline import make_pipeline\n",
    "from sklearn.metrics import accuracy_score, classification_report\n",
    "from sklearn.preprocessing import LabelEncoder\n",
    "import time\n",
    "import numpy as np\n",
    "import pandas as pd"
   ]
  },
  {
   "cell_type": "markdown",
   "metadata": {},
   "source": [
    "# 1. (1 балл) Загрузите предложенный вам датасет с помощью функции `sklearn.datasets.fetch_openml`. Выведите текстовое описание загруженного датасета. Обозначьте целевую переменную за `y`, а остальные данные за `X`."
   ]
  },
  {
   "cell_type": "code",
   "execution_count": 60,
   "metadata": {},
   "outputs": [],
   "source": [
    "# Загрузка датасета\n",
    "dataset = fetch_openml(name=\"students_scores\", version=1,as_frame = True, parser = 'auto')\n",
    "X, y = dataset.data, dataset.target\n",
    "data = pd.concat([pd.DataFrame(dataset.data),pd.DataFrame(dataset.target)],keys=['x','y'],axis=1)"
   ]
  },
  {
   "cell_type": "code",
   "execution_count": 59,
   "metadata": {},
   "outputs": [
    {
     "data": {
      "text/html": [
       "<div>\n",
       "<style scoped>\n",
       "    .dataframe tbody tr th:only-of-type {\n",
       "        vertical-align: middle;\n",
       "    }\n",
       "\n",
       "    .dataframe tbody tr th {\n",
       "        vertical-align: top;\n",
       "    }\n",
       "\n",
       "    .dataframe thead th {\n",
       "        text-align: right;\n",
       "    }\n",
       "</style>\n",
       "<table border=\"1\" class=\"dataframe\">\n",
       "  <thead>\n",
       "    <tr style=\"text-align: right;\">\n",
       "      <th></th>\n",
       "      <th>race.ethnicity</th>\n",
       "      <th>parental.level.of.education</th>\n",
       "      <th>lunch</th>\n",
       "      <th>test.preparation.course</th>\n",
       "      <th>math.score</th>\n",
       "      <th>reading.score</th>\n",
       "      <th>writing.score</th>\n",
       "    </tr>\n",
       "  </thead>\n",
       "  <tbody>\n",
       "    <tr>\n",
       "      <th>0</th>\n",
       "      <td>group B</td>\n",
       "      <td>bachelor's degree</td>\n",
       "      <td>standard</td>\n",
       "      <td>none</td>\n",
       "      <td>72</td>\n",
       "      <td>72</td>\n",
       "      <td>74</td>\n",
       "    </tr>\n",
       "    <tr>\n",
       "      <th>1</th>\n",
       "      <td>group C</td>\n",
       "      <td>some college</td>\n",
       "      <td>standard</td>\n",
       "      <td>completed</td>\n",
       "      <td>69</td>\n",
       "      <td>90</td>\n",
       "      <td>88</td>\n",
       "    </tr>\n",
       "    <tr>\n",
       "      <th>2</th>\n",
       "      <td>group B</td>\n",
       "      <td>master's degree</td>\n",
       "      <td>standard</td>\n",
       "      <td>none</td>\n",
       "      <td>90</td>\n",
       "      <td>95</td>\n",
       "      <td>93</td>\n",
       "    </tr>\n",
       "    <tr>\n",
       "      <th>3</th>\n",
       "      <td>group A</td>\n",
       "      <td>associate's degree</td>\n",
       "      <td>free/reduced</td>\n",
       "      <td>none</td>\n",
       "      <td>47</td>\n",
       "      <td>57</td>\n",
       "      <td>44</td>\n",
       "    </tr>\n",
       "    <tr>\n",
       "      <th>4</th>\n",
       "      <td>group C</td>\n",
       "      <td>some college</td>\n",
       "      <td>standard</td>\n",
       "      <td>none</td>\n",
       "      <td>76</td>\n",
       "      <td>78</td>\n",
       "      <td>75</td>\n",
       "    </tr>\n",
       "    <tr>\n",
       "      <th>...</th>\n",
       "      <td>...</td>\n",
       "      <td>...</td>\n",
       "      <td>...</td>\n",
       "      <td>...</td>\n",
       "      <td>...</td>\n",
       "      <td>...</td>\n",
       "      <td>...</td>\n",
       "    </tr>\n",
       "    <tr>\n",
       "      <th>995</th>\n",
       "      <td>group E</td>\n",
       "      <td>master's degree</td>\n",
       "      <td>standard</td>\n",
       "      <td>completed</td>\n",
       "      <td>88</td>\n",
       "      <td>99</td>\n",
       "      <td>95</td>\n",
       "    </tr>\n",
       "    <tr>\n",
       "      <th>996</th>\n",
       "      <td>group C</td>\n",
       "      <td>high school</td>\n",
       "      <td>free/reduced</td>\n",
       "      <td>none</td>\n",
       "      <td>62</td>\n",
       "      <td>55</td>\n",
       "      <td>55</td>\n",
       "    </tr>\n",
       "    <tr>\n",
       "      <th>997</th>\n",
       "      <td>group C</td>\n",
       "      <td>high school</td>\n",
       "      <td>free/reduced</td>\n",
       "      <td>completed</td>\n",
       "      <td>59</td>\n",
       "      <td>71</td>\n",
       "      <td>65</td>\n",
       "    </tr>\n",
       "    <tr>\n",
       "      <th>998</th>\n",
       "      <td>group D</td>\n",
       "      <td>some college</td>\n",
       "      <td>standard</td>\n",
       "      <td>completed</td>\n",
       "      <td>68</td>\n",
       "      <td>78</td>\n",
       "      <td>77</td>\n",
       "    </tr>\n",
       "    <tr>\n",
       "      <th>999</th>\n",
       "      <td>group D</td>\n",
       "      <td>some college</td>\n",
       "      <td>free/reduced</td>\n",
       "      <td>none</td>\n",
       "      <td>77</td>\n",
       "      <td>86</td>\n",
       "      <td>86</td>\n",
       "    </tr>\n",
       "  </tbody>\n",
       "</table>\n",
       "<p>1000 rows × 7 columns</p>\n",
       "</div>"
      ],
      "text/plain": [
       "    race.ethnicity parental.level.of.education         lunch  \\\n",
       "0          group B           bachelor's degree      standard   \n",
       "1          group C                some college      standard   \n",
       "2          group B             master's degree      standard   \n",
       "3          group A          associate's degree  free/reduced   \n",
       "4          group C                some college      standard   \n",
       "..             ...                         ...           ...   \n",
       "995        group E             master's degree      standard   \n",
       "996        group C                 high school  free/reduced   \n",
       "997        group C                 high school  free/reduced   \n",
       "998        group D                some college      standard   \n",
       "999        group D                some college  free/reduced   \n",
       "\n",
       "    test.preparation.course  math.score  reading.score  writing.score  \n",
       "0                      none          72             72             74  \n",
       "1                 completed          69             90             88  \n",
       "2                      none          90             95             93  \n",
       "3                      none          47             57             44  \n",
       "4                      none          76             78             75  \n",
       "..                      ...         ...            ...            ...  \n",
       "995               completed          88             99             95  \n",
       "996                    none          62             55             55  \n",
       "997               completed          59             71             65  \n",
       "998               completed          68             78             77  \n",
       "999                    none          77             86             86  \n",
       "\n",
       "[1000 rows x 7 columns]"
      ]
     },
     "execution_count": 59,
     "metadata": {},
     "output_type": "execute_result"
    }
   ],
   "source": [
    "X\n"
   ]
  },
  {
   "cell_type": "markdown",
   "metadata": {},
   "source": [
    "# 2. (1 балл) Выведите основную статистическую информацию о данных. Сделайте количественное описание датасета: число строк (объектов), число столбцов (признаков), статистику по признакам, количество классов (значений целевой переменной)."
   ]
  },
  {
   "cell_type": "code",
   "execution_count": 20,
   "metadata": {},
   "outputs": [
    {
     "name": "stdout",
     "output_type": "stream",
     "text": [
      "Количество строк:  1000\n",
      "Количество признаков(столбцов):  7\n",
      "Статистика по признакам:\n",
      "        math.score  reading.score  writing.score\n",
      "count  1000.00000    1000.000000    1000.000000\n",
      "mean     66.08900      69.169000      68.054000\n",
      "std      15.16308      14.600192      15.195657\n",
      "min       0.00000      17.000000      10.000000\n",
      "25%      57.00000      59.000000      57.750000\n",
      "50%      66.00000      70.000000      69.000000\n",
      "75%      77.00000      79.000000      79.000000\n",
      "max     100.00000     100.000000     100.000000\n",
      "Количество классов (значений целевой переменной):  2\n"
     ]
    }
   ],
   "source": [
    "# Основная статистическая информация о данных\n",
    "print(\"Количество строк: \", X.shape[0])\n",
    "print(\"Количество признаков(столбцов): \", X.shape[1])\n",
    "print(\"Статистика по признакам:\\n\", X.describe())\n",
    "print(\"Количество классов (значений целевой переменной): \", len(set(y)))"
   ]
  },
  {
   "cell_type": "markdown",
   "metadata": {},
   "source": [
    "# 3. (1 балл) Убедитесь, что данные пригодны для моделирования. В данных не должно быть пропущенных значений, ве признаки должны быть численными. Если эти условия нарушаются, исправьте это."
   ]
  },
  {
   "cell_type": "code",
   "execution_count": 64,
   "metadata": {},
   "outputs": [],
   "source": [
    "# X = X.select_dtypes(include='number'), удалять наверное не надо\n",
    "X  = X.fillna(X.mean())\n",
    "label_encoder = LabelEncoder()\n",
    "X['lunch'] = label_encoder.fit_transform(X['lunch'])\n",
    "# И так далее для каждого не численного значения\n",
    "\n"
   ]
  },
  {
   "cell_type": "markdown",
   "metadata": {},
   "source": [
    "# 4. (2 балла) Обучите модель логистической регрессии на рассматриваемых данных из библиотеки `sklearn`. Рассчитайте метрики accuracy и выведите таблицу классификации.\n"
   ]
  },
  {
   "cell_type": "code",
   "execution_count": 40,
   "metadata": {},
   "outputs": [
    {
     "name": "stdout",
     "output_type": "stream",
     "text": [
      "Logistic Regression:\n",
      "Accuracy:  0.879\n",
      "Classification Report:\n",
      "               precision    recall  f1-score   support\n",
      "\n",
      "      female       0.87      0.90      0.88       518\n",
      "        male       0.89      0.86      0.87       482\n",
      "\n",
      "    accuracy                           0.88      1000\n",
      "   macro avg       0.88      0.88      0.88      1000\n",
      "weighted avg       0.88      0.88      0.88      1000\n",
      "\n",
      "Время обучения:  0.012635469436645508\n"
     ]
    }
   ],
   "source": [
    "start_time = time.time()\n",
    "logreg_model = LogisticRegression(max_iter=1000)\n",
    "logreg_model.fit(X, y)\n",
    "logreg_time = time.time() - start_time\n",
    "y_pred_logreg = logreg_model.predict(X)\n",
    "accuracy_logreg = accuracy_score(y, y_pred_logreg)\n",
    "print(\"Logistic Regression:\")\n",
    "print(\"Accuracy: \", accuracy_logreg)\n",
    "print(\"Таблица классификации:\\n\", classification_report(y, y_pred_logreg))\n",
    "print(\"Время обучения: \", logreg_time)\n",
    "\n"
   ]
  },
  {
   "cell_type": "markdown",
   "metadata": {},
   "source": [
    "# 5. (2 балла) Обучите полиномиальную модель классификации. Рассчитайте метрики accuracy и выведите таблицу классификации. Попробуйте разные степени полинома и выберите ту, которая работает лучше."
   ]
  },
  {
   "cell_type": "code",
   "execution_count": 43,
   "metadata": {},
   "outputs": [
    {
     "name": "stdout",
     "output_type": "stream",
     "text": [
      "Polynomial Model (Degree 2):\n",
      "Accuracy:  0.88\n",
      "Таблица классификации:\n",
      "               precision    recall  f1-score   support\n",
      "\n",
      "      female       0.87      0.90      0.89       518\n",
      "        male       0.89      0.86      0.87       482\n",
      "\n",
      "    accuracy                           0.88      1000\n",
      "   macro avg       0.88      0.88      0.88      1000\n",
      "weighted avg       0.88      0.88      0.88      1000\n",
      "\n",
      "Время обучения:  0.08303070068359375\n",
      "Polynomial Model (Degree 3):\n",
      "Accuracy:  0.879\n",
      "Таблица классификации:\n",
      "               precision    recall  f1-score   support\n",
      "\n",
      "      female       0.87      0.90      0.88       518\n",
      "        male       0.88      0.86      0.87       482\n",
      "\n",
      "    accuracy                           0.88      1000\n",
      "   macro avg       0.88      0.88      0.88      1000\n",
      "weighted avg       0.88      0.88      0.88      1000\n",
      "\n",
      "Время обучения:  0.22712993621826172\n",
      "Polynomial Model (Degree 4):\n",
      "Accuracy:  0.88\n",
      "Таблица классификации:\n",
      "               precision    recall  f1-score   support\n",
      "\n",
      "      female       0.87      0.90      0.89       518\n",
      "        male       0.89      0.86      0.87       482\n",
      "\n",
      "    accuracy                           0.88      1000\n",
      "   macro avg       0.88      0.88      0.88      1000\n",
      "weighted avg       0.88      0.88      0.88      1000\n",
      "\n",
      "Время обучения:  0.3335134983062744\n"
     ]
    }
   ],
   "source": [
    "for degree in degrees:\n",
    "    poly_model = make_pipeline(PolynomialFeatures(degree), LogisticRegression(max_iter=1000))\n",
    "    start_time = time.time()\n",
    "    poly_model.fit(X, y)\n",
    "    poly_time = time.time() - start_time\n",
    "    \n",
    "    y_pred_poly = poly_model.predict(X)\n",
    "    accuracy_poly = accuracy_score(y, y_pred_poly)\n",
    "    \n",
    "    print(f\"Polynomial Model (Degree {degree}):\")\n",
    "    print(\"Accuracy: \", accuracy_poly)\n",
    "    print(\"Таблица классификации:\\n\", classification_report(y, y_pred_poly))\n",
    "    print(\"Время обучения: \", poly_time)\n",
    "    \n",
    "    if accuracy_poly > best_accuracy_poly:\n",
    "        best_accuracy_poly = accuracy_poly\n",
    "        best_degree = degree\n"
   ]
  },
  {
   "cell_type": "code",
   "execution_count": 44,
   "metadata": {},
   "outputs": [
    {
     "name": "stdout",
     "output_type": "stream",
     "text": [
      "Best Polynomial Degree: 2\n"
     ]
    }
   ],
   "source": [
    "print(f\"Best Polynomial Degree: {best_degree}\")"
   ]
  },
  {
   "cell_type": "markdown",
   "metadata": {},
   "source": [
    "# 6.(2 балла) Обучите модель классификации по методу опорных векторов. Рассчитайте метрики accuracy и выведите таблицу классификации. Попробуйте разные ядерные функции и выберите ту, которая работает лучше."
   ]
  },
  {
   "cell_type": "code",
   "execution_count": 65,
   "metadata": {},
   "outputs": [
    {
     "name": "stdout",
     "output_type": "stream",
     "text": [
      "SVM Model (Kernel linear):\n",
      "Accuracy:  0.887\n",
      "Таблица классификации:\n",
      "               precision    recall  f1-score   support\n",
      "\n",
      "      female       0.88      0.90      0.89       518\n",
      "        male       0.89      0.87      0.88       482\n",
      "\n",
      "    accuracy                           0.89      1000\n",
      "   macro avg       0.89      0.89      0.89      1000\n",
      "weighted avg       0.89      0.89      0.89      1000\n",
      "\n",
      "Время обучения:  0.30075597763061523\n",
      "SVM Model (Kernel poly):\n",
      "Accuracy:  0.874\n",
      "Таблица классификации:\n",
      "               precision    recall  f1-score   support\n",
      "\n",
      "      female       0.88      0.87      0.88       518\n",
      "        male       0.87      0.87      0.87       482\n",
      "\n",
      "    accuracy                           0.87      1000\n",
      "   macro avg       0.87      0.87      0.87      1000\n",
      "weighted avg       0.87      0.87      0.87      1000\n",
      "\n",
      "Время обучения:  0.016371726989746094\n",
      "SVM Model (Kernel rbf):\n",
      "Accuracy:  0.88\n",
      "Таблица классификации:\n",
      "               precision    recall  f1-score   support\n",
      "\n",
      "      female       0.87      0.90      0.89       518\n",
      "        male       0.89      0.86      0.87       482\n",
      "\n",
      "    accuracy                           0.88      1000\n",
      "   macro avg       0.88      0.88      0.88      1000\n",
      "weighted avg       0.88      0.88      0.88      1000\n",
      "\n",
      "Время обучения:  0.01600170135498047\n",
      "SVM Model (Kernel sigmoid):\n",
      "Accuracy:  0.454\n",
      "Таблица классификации:\n",
      "               precision    recall  f1-score   support\n",
      "\n",
      "      female       0.47      0.46      0.46       518\n",
      "        male       0.44      0.45      0.44       482\n",
      "\n",
      "    accuracy                           0.45      1000\n",
      "   macro avg       0.45      0.45      0.45      1000\n",
      "weighted avg       0.45      0.45      0.45      1000\n",
      "\n",
      "Время обучения:  0.04000711441040039\n",
      "Best SVM Kernel: linear\n"
     ]
    }
   ],
   "source": [
    "# Обучение модели опорных векторов\n",
    "kernels = ['linear', 'poly', 'rbf', 'sigmoid']\n",
    "best_kernel = None\n",
    "best_accuracy_svm = 0\n",
    "\n",
    "for kernel in kernels:\n",
    "    svm_model = SVC(kernel=kernel)\n",
    "    start_time = time.time()\n",
    "    svm_model.fit(X, y)\n",
    "    svm_time = time.time() - start_time\n",
    "    \n",
    "    y_pred_svm = svm_model.predict(X)\n",
    "    accuracy_svm = accuracy_score(y, y_pred_svm)\n",
    "    \n",
    "    print(f\"SVM Model (Kernel {kernel}):\")\n",
    "    print(\"Accuracy: \", accuracy_svm)\n",
    "    print(\"Таблица классификации:\\n\", classification_report(y, y_pred_svm))\n",
    "    print(\"Время обучения: \", svm_time)\n",
    "    \n",
    "    if accuracy_svm > best_accuracy_svm:\n",
    "        best_accuracy_svm = accuracy_svm\n",
    "        best_kernel = kernel\n",
    "\n",
    "print(f\"Best SVM Kernel: {best_kernel}\");\n",
    "\n",
    "\n"
   ]
  },
  {
   "cell_type": "markdown",
   "metadata": {},
   "source": [
    "# 7. (1 балл) Обучите модель классификации Перцептрон. Рассчитайте метрики accuracy и выведите таблицу классификации. "
   ]
  },
  {
   "cell_type": "code",
   "execution_count": 73,
   "metadata": {},
   "outputs": [
    {
     "name": "stdout",
     "output_type": "stream",
     "text": [
      "Perceptron:\n",
      "Accuracy:  0.847\n",
      "Таблица классификации:\n",
      "               precision    recall  f1-score   support\n",
      "\n",
      "      female       0.79      0.96      0.87       518\n",
      "        male       0.94      0.73      0.82       482\n",
      "\n",
      "    accuracy                           0.85      1000\n",
      "   macro avg       0.87      0.84      0.84      1000\n",
      "weighted avg       0.86      0.85      0.84      1000\n",
      "\n",
      "Время обучения:  1.6194660663604736\n"
     ]
    }
   ],
   "source": [
    "# Обучение модели Перцептрона\n",
    "perceptron_model = MLPClassifier(hidden_layer_sizes=(100,100,100),max_iter=1000)#можно менять кол-во слоев и нейронов\n",
    "start_time = time.time()\n",
    "perceptron_model.fit(X, y)\n",
    "perceptron_time = time.time() - start_time\n",
    "\n",
    "# Расчет метрик и вывод таблицы классификации\n",
    "y_pred_perceptron = perceptron_model.predict(X)\n",
    "accuracy_perceptron = accuracy_score(y, y_pred_perceptron)\n",
    "print(\"Perceptron:\")\n",
    "print(\"Accuracy: \", accuracy_perceptron)\n",
    "print(\"Таблица классификации:\\n\", classification_report(y, y_pred_perceptron))\n",
    "print(\"Время обучения: \", perceptron_time)"
   ]
  },
  {
   "cell_type": "markdown",
   "metadata": {},
   "source": [
    "# 8.(2 балла) Выведите итоговую таблицу сравнения всех моделей. В таблице должна быть информация о эффективности и времени обучения каждой модели. Сделайте вывод о применимости и эффективности моделей для классификации объектов в данной задаче."
   ]
  },
  {
   "cell_type": "code",
   "execution_count": 81,
   "metadata": {},
   "outputs": [
    {
     "name": "stdout",
     "output_type": "stream",
     "text": [
      "\\Итоговая таблица:\n",
      "Модель\t\t\t\tAccuracy\tВремя обучения\n",
      "Логистич.регрессия:\t\t 0.879 \t\t 0.0126\n",
      "Полиномиальная (Degree 2):\t 0.89 \t\t 0.3335\n",
      "SVM (Kernel linear):\t\t 0.887 \t\t 0.04\n",
      "Перцептрон:\t\t\t 0.847 \t\t 1.6195\n"
     ]
    }
   ],
   "source": [
    "# Вывод итоговой таблицы сравнения всех моделей\n",
    "print(\"\\Итоговая таблица:\")\n",
    "print(\"Модель\\t\\t\\t\\tAccuracy\\tВремя обучения\")\n",
    "print(\"Логистич.регрессия:\\t\\t\", round(accuracy_logreg, 4), \"\\t\\t\", round(logreg_time, 4))\n",
    "print(f\"Полиномиальная (Degree {best_degree}):\\t\", round(best_accuracy_poly, 4), \"\\t\\t\", round(poly_time, 4))\n",
    "print(f\"SVM (Kernel {best_kernel}):\\t\\t\", round(best_accuracy_svm, 4), \"\\t\\t\", round(svm_time, 4))\n",
    "print(\"Перцептрон:\\t\\t\\t\", round(accuracy_perceptron, 4), \"\\t\\t\", round(perceptron_time, 4))\n"
   ]
  },
  {
   "cell_type": "code",
   "execution_count": null,
   "metadata": {},
   "outputs": [],
   "source": []
  }
 ],
 "metadata": {
  "kernelspec": {
   "display_name": "Python 3",
   "language": "python",
   "name": "python3"
  },
  "language_info": {
   "codemirror_mode": {
    "name": "ipython",
    "version": 3
   },
   "file_extension": ".py",
   "mimetype": "text/x-python",
   "name": "python",
   "nbconvert_exporter": "python",
   "pygments_lexer": "ipython3",
   "version": "3.8.5"
  }
 },
 "nbformat": 4,
 "nbformat_minor": 5
}
