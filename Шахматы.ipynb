{
  "cells": [
    {
      "cell_type": "markdown",
      "metadata": {
        "id": "BZbRfAIftvK8"
      },
      "source": [
        "## Задание 2\n",
        "\n",
        "Реализовать программу, при помощи которой 2 игрока могут играть в «Крестики-нолики» на поле 3 на 3. Взаимодействие с программой производится через консоль. Игровое поле изображается в виде трех текстовых строк и перерисовывается при каждом изменении состояния поля. При запросе данных от пользователя программа сообщает, что ожидает от пользователя (в частности, координаты новой отметки на поле) и проверяет корректность ввода. Программа должна уметь автоматически определять, что партия окончена, и сообщать о победе одного из игроков или о ничьей. Сама программа НЕ ходит, т.е. не пытается ставить крестики и нолики с целью заполнить линию.\n"
      ]
    },
    {
      "cell_type": "code",
      "execution_count": null,
      "metadata": {
        "id": "AC4ltqaqjCNl",
        "outputId": "426cac07-0967-460a-8f7b-013ae0daf886"
      },
      "outputs": [
        {
          "name": "stdout",
          "output_type": "stream",
          "text": [
            "координаты поля выглядят так: \n",
            " a1 a2 a3 \n",
            " b1 b2 b3 \n",
            " c1 c2 c3\n",
            "\n",
            "ходит игрок 1\n",
            "сейчас поле выглядит так:\n",
            " _ _ _ \n",
            " _ _ _ \n",
            " _ _ _\n",
            "введите координаты для X a1\n",
            "\n",
            "ходит игрок 0\n",
            "сейчас поле выглядит так:\n",
            " X _ _ \n",
            " _ _ _ \n",
            " _ _ _\n",
            "введите координаты для 0 b1\n",
            "\n",
            "ходит игрок 1\n",
            "сейчас поле выглядит так:\n",
            " X _ _ \n",
            " 0 _ _ \n",
            " _ _ _\n",
            "введите координаты для X b1\n",
            "поле занято\n",
            "\n",
            "ходит игрок 1\n",
            "сейчас поле выглядит так:\n",
            " X _ _ \n",
            " 0 _ _ \n",
            " _ _ _\n",
            "введите координаты для X b2\n",
            "\n",
            "ходит игрок 0\n",
            "сейчас поле выглядит так:\n",
            " X _ _ \n",
            " 0 X _ \n",
            " _ _ _\n",
            "введите координаты для 0 a2\n",
            "\n",
            "ходит игрок 1\n",
            "сейчас поле выглядит так:\n",
            " X 0 _ \n",
            " 0 X _ \n",
            " _ _ _\n",
            "введите координаты для X c3\n",
            "X win \n",
            " _______________________\n"
          ]
        }
      ],
      "source": [
        "a1,a2,a3,b1,b2,b3,c1,c2,c3='_','_','_','_','_','_','_','_','_'\n",
        "resultgames=[a1==a2==a3 and a1!='_', b1==b2==b3 and b1!='_', c1==c2==c3 and c1!='_',\n",
        "             a1==b1==c1 and a1!='_', a2==b2==c2 and a2!='_', a2==b2==c2 and a2!='_',\n",
        "             a1==b2==c3 and a1!='_', c1==b2==a3 and c1!='_']\n",
        "print('координаты поля выглядят так:','\\n','a1','a2','a3','\\n','b1','b2','b3','\\n','c1','c2','c3')\n",
        "count=1\n",
        "\n",
        "while True:\n",
        "    X0 = 'X' if count%2 else '0'\n",
        "    if any(resultgames):\n",
        "        print(b2,'win','\\n _______________________')\n",
        "        break\n",
        "\n",
        "    print('\\n','ходит игрок ', count%2, '\\n', 'сейчас поле выглядит так:' ,sep='')\n",
        "    print(f' {a1} {a2} {a3} \\n {b1} {b2} {b3} \\n {c1} {c2} {c3}')\n",
        "    cord = input('введите координаты для X ') if X0=='X' else input('введите координаты для 0 ')\n",
        "\n",
        "    if cord=='a1' and a1!='0' and a1!='X':\n",
        "        a1=X0\n",
        "    elif cord=='a2' and a2!='0' and a2!='X':\n",
        "        a2=X0\n",
        "    elif cord=='a3' and a3!='0' and a3!='X':\n",
        "        a3=X0\n",
        "    elif cord=='b1' and b1!='0' and b1!='X':\n",
        "        b1=X0\n",
        "    elif cord=='b2' and b2!='0' and b2!='X':\n",
        "        b2=X0\n",
        "    elif cord=='b3' and b3!='0' and b3!='X':\n",
        "        b3=X0\n",
        "    elif cord=='c1' and c1!='0' and c1!='X':\n",
        "        c1=X0\n",
        "    elif cord=='c2' and c2!='0' and c2!='X':\n",
        "        c2=X0\n",
        "    elif cord=='c3' and c3!='0' and c3!='X':\n",
        "        c3=X0\n",
        "    else:\n",
        "        print('поле занято')\n",
        "        count+=1\n",
        "\n",
        "    count+=1\n",
        "\n",
        "    resultgames=[a1==a2==a3 and a1!='_', b1==b2==b3 and b1!='_', c1==c2==c3 and c1!='_',\n",
        "             a1==b1==c1 and a1!='_', a2==b2==c2 and a2!='_', a2==b2==c2 and a2!='_',\n",
        "             a1==b2==c3 and a1!='_', c1==b2==a3 and c1!='_']"
      ]
    },
    {
      "cell_type": "code",
      "execution_count": null,
      "metadata": {
        "id": "jRHzsf5tjCNm",
        "outputId": "35f26ca7-36a8-427a-a0d6-c8e1ebf745c9"
      },
      "outputs": [
        {
          "data": {
            "text/plain": [
              "True"
            ]
          },
          "execution_count": 39,
          "metadata": {},
          "output_type": "execute_result"
        }
      ],
      "source": [
        "a1,a2,a3,b1,b2,b3,c1,c2,c3='X','X','X','_','_','_','_','_','_'\n",
        "resultgames=[a1==a2==a3 and a1!='_', b1==b2==b3 and b1!='_', c1==c2==c3 and c1!='_',\n",
        "             a1==b1==c1 and a1!='_', a2==b2==c2 and a2!='_', a2==b2==c2 and a2!='_',\n",
        "             a1==b2==c3 and a1!='_', c1==b2==a3 and c1!='_']\n",
        "any(resultgames)"
      ]
    }
  ],
  "metadata": {
    "colab": {
      "provenance": []
    },
    "kernelspec": {
      "display_name": "Python 3 (ipykernel)",
      "language": "python",
      "name": "python3"
    },
    "language_info": {
      "codemirror_mode": {
        "name": "ipython",
        "version": 3
      },
      "file_extension": ".py",
      "mimetype": "text/x-python",
      "name": "python",
      "nbconvert_exporter": "python",
      "pygments_lexer": "ipython3",
      "version": "3.9.12"
    }
  },
  "nbformat": 4,
  "nbformat_minor": 0
}