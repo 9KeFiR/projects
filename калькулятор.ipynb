{
  "cells": [
    {
      "cell_type": "code",
      "execution_count": null,
      "metadata": {
        "id": "bCfzd9PlORHw"
      },
      "outputs": [],
      "source": [
        "import ast\n",
        "import operator as op\n",
        "\n",
        "operators = {ast.Add: op.add, ast.Sub: op.sub, ast.Mult: op.mul, ast.Div: op.truediv, ast.Mod: op.mod,}\n",
        "\n",
        "def eval_expr(expr):\n",
        "    return eval_(ast.parse(expr, mode='eval').body)\n",
        "\n",
        "def eval_(node):\n",
        "    if isinstance(node, ast.Num):\n",
        "        return node.n\n",
        "    elif isinstance(node, ast.BinOp):\n",
        "        return operators[type(node.op)](eval_(node.left), eval_(node.right))\n",
        "    elif isinstance(node, ast.UnaryOp):\n",
        "        return operators[type(node.op)](eval_(node.operand))\n",
        "    else:\n",
        "        raise TypeError(node)\n",
        "\n",
        "\n",
        "def converter(answer):\n",
        "    s = ''\n",
        "    if answer < 0:\n",
        "        answer *= -1\n",
        "        s += 'минус '\n",
        "    if 20 > answer >10:\n",
        "        s += list(numbers.keys())[list(numbers.values()).index(answer)] + \" \"\n",
        "    else:\n",
        "        razlojenie = [answer%10000//1000*1000,answer%1000//100*100,answer%100//10*10, answer%10]\n",
        "        for i in range(4):\n",
        "            if razlojenie[i] != 0:\n",
        "                s+= list(numbers.keys())[list(numbers.values()).index(razlojenie[i])] + \" \"\n",
        "    return s\n",
        "\n",
        "numbers = {'один':1,\"два\":2,\"три\":3,\"четыре\":4,\"пять\":5,\"шесть\":6,\"семь\":7,\"восемь\":8,\"девять\":9,\"десять\":10,'одиннадцать':11,\"двенадцать\":12,\"тринадцать\":13, \"четырнадцать\":14,\"пятнадцать\":15,'шестнадцать':16,\"семнадцать\":17, \"восемнадцать\":18,\"девятнадцать\":19, 'сто': 100, 'двести':200, 'триста':300, 'четыреста': 400, 'пятьсот':500,'шестьсот':600, 'семьсот':700,'восемьсот':800, 'девятьсот':900,'тысяча':1000, 'две тысячи': 2000, 'три тысячи':3000 , 'четыре тысячи':4000,'пять тысяч':5000,'шесть тысяч':6000,'семь тысяч':7000, 'восемь тысяч':8000,'девять тысяч':9000, 'десять тысяч':10000,'двадцать':20,\"тридцать\":30,\"сорок\":40,\"пятьдесят\":50,\"шестьдесят\":60,\"семьдесят\":70,\"восемьдесят\":80,\"девяносто\":90, \"тысяч\": 1000, 'тысячи':1000, \"две\":2}\n",
        "ops = ['плюс','минус','умножить','закрывается', 'открывается', 'разделить', 'остатокотделения']\n",
        "\n",
        "def calc(a):\n",
        "    a = a.lower().replace(' на', '').replace('минус минус', 'плюс').replace('скобка ', '').replace('остаток от деления','остатокотделения').replace('сотых','сотые').replace('сотая','сотые').split(' ')\n",
        "\n",
        "    op = []\n",
        "    for i in a:\n",
        "        if i in ops:\n",
        "            op += [i]\n",
        "\n",
        "    for i in range(len(a)):\n",
        "        if a[i] not in ops:\n",
        "            a[i] = list(numbers.values())[list(numbers.keys()).index(a[i])]\n",
        "\n",
        "    for i in range(len(a)-1):\n",
        "        try:\n",
        "            if a[i+1] not in ops and a[i] not in ops:\n",
        "                a[i]=int(a[i])\n",
        "                a[i+1]+=a[i]\n",
        "                a.remove(a[i])\n",
        "        except:...\n",
        "\n",
        "    for i in range(len(a)):\n",
        "        try:\n",
        "            if a[i-1] < a[i] and a[i] == 1000:\n",
        "                a[i] = a[i-1]*1000\n",
        "                a[i-1] = 0\n",
        "        except:\n",
        "            ...\n",
        "\n",
        "    a = ' '.join([str(x) for x in a if x != 0])\n",
        "    a = a.replace('открывается','(').replace('закрывается',')').replace('умножить','*').replace('плюс','+').replace('минус','-').replace('разделить','/').replace('остатокотделения','%')\n",
        "    a = a.split(' ')\n",
        "\n",
        "    try:\n",
        "        for i in range(1,len(a)+1):\n",
        "            if a[i-1].isdigit() and a[i].isdigit():\n",
        "                if a[i-2] != '-':\n",
        "                    a.insert(i,'+')\n",
        "                elif a[i-2] == '-':\n",
        "                    a.insert(i,'-')\n",
        "    except:\n",
        "        ...\n",
        "\n",
        "    a = ' '.join(a)\n",
        "    print(a)\n",
        "\n",
        "    answer = eval_expr(a)\n",
        "    return (converter(answer))"
      ]
    },
    {
      "cell_type": "markdown",
      "metadata": {
        "id": "VOpdsn_1ORH4"
      },
      "source": [
        "# 3) сложность 3"
      ]
    },
    {
      "cell_type": "code",
      "execution_count": null,
      "metadata": {
        "id": "NG0W99ziORH7",
        "outputId": "bd1ef0e4-4c21-4518-8f74-d31c7ceabc2e"
      },
      "outputs": [
        {
          "name": "stdout",
          "output_type": "stream",
          "text": [
            "5 + 2 * 3 - 1\n"
          ]
        },
        {
          "data": {
            "text/plain": [
              "'десять '"
            ]
          },
          "execution_count": 124,
          "metadata": {},
          "output_type": "execute_result"
        }
      ],
      "source": [
        "calc('пять плюс два умножить на три минус один')"
      ]
    },
    {
      "cell_type": "code",
      "execution_count": null,
      "metadata": {
        "id": "SI0a9q-mORH8",
        "outputId": "0196134c-2bd7-4079-d026-8df4fc6e0715"
      },
      "outputs": [
        {
          "name": "stdout",
          "output_type": "stream",
          "text": [
            "2 + 1 * 4 + 7\n"
          ]
        },
        {
          "data": {
            "text/plain": [
              "'тринадцать '"
            ]
          },
          "execution_count": 125,
          "metadata": {},
          "output_type": "execute_result"
        }
      ],
      "source": [
        "calc('два плюс один умножить на четыре плюс семь')"
      ]
    },
    {
      "cell_type": "markdown",
      "metadata": {
        "id": "c6SwAF8jORH8"
      },
      "source": [
        "# 4) сложность 3"
      ]
    },
    {
      "cell_type": "code",
      "execution_count": null,
      "metadata": {
        "id": "BkWjDGwEORH9",
        "outputId": "341cdbdc-50f8-4b87-d5d3-0b848d81b155"
      },
      "outputs": [
        {
          "name": "stdout",
          "output_type": "stream",
          "text": [
            "( 5 + 2 ) * 3 - 1\n"
          ]
        },
        {
          "data": {
            "text/plain": [
              "'двадцать '"
            ]
          },
          "execution_count": 126,
          "metadata": {},
          "output_type": "execute_result"
        }
      ],
      "source": [
        "calc('скобка открывается пять плюс два скобка закрывается умножить на три минус один')"
      ]
    },
    {
      "cell_type": "code",
      "execution_count": null,
      "metadata": {
        "id": "cwXw1b4kORH9",
        "outputId": "83e24b6b-ca34-4313-f728-2068c3ecd568"
      },
      "outputs": [
        {
          "name": "stdout",
          "output_type": "stream",
          "text": [
            "72 + ( 5 + 2 ) * 3\n"
          ]
        },
        {
          "data": {
            "text/plain": [
              "'девяносто три '"
            ]
          },
          "execution_count": 127,
          "metadata": {},
          "output_type": "execute_result"
        }
      ],
      "source": [
        "calc('семьдесят два плюс скобка открывается пять плюс два скобка закрывается умножить на три')"
      ]
    },
    {
      "cell_type": "markdown",
      "metadata": {
        "id": "Fi6p7il0ORH-"
      },
      "source": [
        "# 5) сложность 1"
      ]
    },
    {
      "cell_type": "code",
      "execution_count": null,
      "metadata": {
        "id": "ffOIcQS7ORH-",
        "outputId": "bcc390a2-5969-4346-e47d-e1f689036bd7"
      },
      "outputs": [
        {
          "name": "stdout",
          "output_type": "stream",
          "text": [
            "5 + 1\n"
          ]
        },
        {
          "data": {
            "text/plain": [
              "'шесть '"
            ]
          },
          "execution_count": 128,
          "metadata": {},
          "output_type": "execute_result"
        }
      ],
      "source": [
        "calc('пять минус минус один')"
      ]
    },
    {
      "cell_type": "code",
      "execution_count": null,
      "metadata": {
        "id": "p3SwH2OlORH_",
        "outputId": "9c3bad6d-7aa5-41aa-db47-e2a59777d0b1"
      },
      "outputs": [
        {
          "name": "stdout",
          "output_type": "stream",
          "text": [
            "6 - 18\n"
          ]
        },
        {
          "data": {
            "text/plain": [
              "'минус двенадцать '"
            ]
          },
          "execution_count": 129,
          "metadata": {},
          "output_type": "execute_result"
        }
      ],
      "source": [
        "calc('шесть минус восемнадцать')"
      ]
    },
    {
      "cell_type": "markdown",
      "metadata": {
        "id": "XrTcnNqdORH_"
      },
      "source": [
        "# 1) сложноть 2 (не удалось реализовать работу с дробными числами, но остаток от деления и деление нацело работает)"
      ]
    },
    {
      "cell_type": "code",
      "execution_count": null,
      "metadata": {
        "id": "SClczU2WORH_",
        "outputId": "009ab047-a597-494c-f726-9586e4f9cf54"
      },
      "outputs": [
        {
          "name": "stdout",
          "output_type": "stream",
          "text": [
            "20 % 6\n"
          ]
        },
        {
          "data": {
            "text/plain": [
              "'два '"
            ]
          },
          "execution_count": 130,
          "metadata": {},
          "output_type": "execute_result"
        }
      ],
      "source": [
        "calc('двадцать остаток от деления на шесть')"
      ]
    },
    {
      "cell_type": "code",
      "execution_count": null,
      "metadata": {
        "id": "rEChqdM2ORIA",
        "outputId": "1b23280e-98a6-4fdc-cb8a-33089e217131"
      },
      "outputs": [
        {
          "name": "stdout",
          "output_type": "stream",
          "text": [
            "35 / 5\n"
          ]
        },
        {
          "data": {
            "text/plain": [
              "'семь '"
            ]
          },
          "execution_count": 131,
          "metadata": {},
          "output_type": "execute_result"
        }
      ],
      "source": [
        "calc('тридцать пять разделить на пять')"
      ]
    }
  ],
  "metadata": {
    "colab": {
      "provenance": [],
      "toc_visible": true
    },
    "kernelspec": {
      "display_name": "Python 3 (ipykernel)",
      "language": "python",
      "name": "python3"
    },
    "language_info": {
      "codemirror_mode": {
        "name": "ipython",
        "version": 3
      },
      "file_extension": ".py",
      "mimetype": "text/x-python",
      "name": "python",
      "nbconvert_exporter": "python",
      "pygments_lexer": "ipython3",
      "version": "3.9.12"
    }
  },
  "nbformat": 4,
  "nbformat_minor": 0
}